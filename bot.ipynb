{
 "cells": [
  {
   "cell_type": "code",
   "execution_count": null,
   "metadata": {},
   "outputs": [],
   "source": [
    "# import pandas as pd\n",
    "# from transformers import pipeline\n",
    "# from transformers import AutoModelForSequenceClassification\n",
    "# import torch\n",
    "# from torch.utils.data import DataLoader\n",
    "# from transformers import Trainer, TrainingArguments,AutoTokenizer\n",
    "# from sklearn.preprocessing import StandardScaler\n",
    "# from sklearn.model_selection import train_test_split\n",
    "# from torch.utils.data import DataLoader"
   ]
  },
  {
   "cell_type": "code",
   "execution_count": 1,
   "metadata": {},
   "outputs": [],
   "source": [
    "# Use a pipeline as a high-level helper\n",
    "from transformers import pipeline"
   ]
  },
  {
   "cell_type": "code",
   "execution_count": 2,
   "metadata": {},
   "outputs": [],
   "source": [
    "# Step 1: Define a class or function for interacting with the model\n",
    "class ConversationModel:\n",
    "    def __init__(self, model_name=\"m42-health/Llama3-Med42-8B\"):\n",
    "        # Load the model once when the class is initialized\n",
    "        self.pipe = pipeline(\"text-generation\", model=model_name)\n",
    "\n",
    "    def ask(self, messages, max_new_tokens=200):\n",
    "        # Send the messages to the model and return the response\n",
    "        return self.pipe(messages, max_length=2048, do_sample=True)"
   ]
  },
  {
   "cell_type": "code",
   "execution_count": 3,
   "metadata": {},
   "outputs": [
    {
     "data": {
      "application/vnd.jupyter.widget-view+json": {
       "model_id": "60950836a4de452b8caf71413c25ef69",
       "version_major": 2,
       "version_minor": 0
      },
      "text/plain": [
       "Loading checkpoint shards:   0%|          | 0/4 [00:00<?, ?it/s]"
      ]
     },
     "metadata": {},
     "output_type": "display_data"
    }
   ],
   "source": [
    "model_instance = ConversationModel()"
   ]
  },
  {
   "cell_type": "code",
   "execution_count": 4,
   "metadata": {},
   "outputs": [
    {
     "name": "stderr",
     "output_type": "stream",
     "text": [
      "Starting from v4.46, the `logits` model output will have the same type as the model (except at train time, where it will always be FP32)\n"
     ]
    }
   ],
   "source": [
    "messages = [{\"role\": \"user\", \"content\": \"what is diabetes\"}]\n",
    "response = model_instance.ask(messages)\n"
   ]
  },
  {
   "cell_type": "code",
   "execution_count": 5,
   "metadata": {},
   "outputs": [
    {
     "name": "stdout",
     "output_type": "stream",
     "text": [
      "[{'generated_text': [{'role': 'user', 'content': 'what is diabetes'}, {'role': 'assistant', 'content': \"Diabetes is a chronic (long-lasting) condition that affects the way your body regulates blood sugar (glucose). Your body needs glucose for energy, but it requires insulin, a hormone made by the pancreas, to help it use it. Here's a breakdown of various aspects of diabetes:\\n\\n- Type 1 Diabetes: A chronic autoimmune disease where the immune system attacks and destroys the insulin-producing cells in the pancreas. As a result, the body cannot produce enough insulin, leading to high blood sugar levels. Type 1 diabetes typically develops in childhood or adolescence and requires insulin injections for management.\\n\\n- Type 2 Diabetes: A metabolic disorder characterized by insulin resistance, a condition in which the body's cells become less responsive to insulin. As a result, the pancreas initially overproduces insulin to compensate for the resistance, but over time, it can no longer keep up, leading to elevated blood sugar levels. Type 2 diabetes is more common in adults and is often associated with lifestyle factors such as obesity and physical inactivity.\\n\\n- Gestational Diabetes: A type of diabetes that develops during pregnancy, usually during the second or third trimester. It is caused by hormonal changes and insulin resistance, which can lead to high blood sugar levels in the mother. Gestational diabetes typically resolves after delivery but increases the risk of developing type 2 diabetes later in life for both mother and child.\\n\\nSome other essential diabetes-related concepts include:\\n\\n1. Blood sugar or glucose levels: The amount of glucose present in the blood is critical for diabetes management. Low blood sugar (hypoglycemia) can lead to symptoms such as shakiness, dizziness, and confusion, while high blood sugar (hyperglycemia) can cause fatigue, frequent urination, and dehydration.\\n\\n2. HbA1c: A measure of average blood sugar control over 2-3 months. The HbA1c level helps clinicians assess how well blood sugar is being controlled and enables individuals to understand if lifestyle changes or medication adjustments are required.\\n\\n3. Complications: Diabetes can lead to various complications, including heart disease, kidney damage (nephropathy), nerve damage (neuropathy), eye damage (retinopathy), and foot problems due to reduced blood flow and nerve damage.\\n\\n4. Lifestyle Management: Adopting a healthy lifestyle is the cornerstone of diabetes management. This includes maintaining a balanced diet, engaging in regular physical exercise, losing weight if necessary, and quitting smoking.\\n\\n5. Medications: Various medications can be prescribed to manage blood sugar levels. This includes insulin injections for type 1 diabetes and a range of oral and injectable medications for type 2 diabetes.\\n\\n6.Monitoring and Testing: Regular monitoring of blood sugar is crucial for diabetes management. Both finger-prick tests and continuous glucose monitoring systems are used for this purpose.\"}]}]\n"
     ]
    }
   ],
   "source": [
    "print(response)"
   ]
  }
 ],
 "metadata": {
  "kernelspec": {
   "display_name": "dev",
   "language": "python",
   "name": "python3"
  },
  "language_info": {
   "codemirror_mode": {
    "name": "ipython",
    "version": 3
   },
   "file_extension": ".py",
   "mimetype": "text/x-python",
   "name": "python",
   "nbconvert_exporter": "python",
   "pygments_lexer": "ipython3",
   "version": "3.10.14"
  }
 },
 "nbformat": 4,
 "nbformat_minor": 2
}
