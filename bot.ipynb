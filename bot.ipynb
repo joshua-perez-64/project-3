{
 "cells": [
  {
   "cell_type": "code",
   "execution_count": null,
   "metadata": {},
   "outputs": [
    {
     "name": "stderr",
     "output_type": "stream",
     "text": [
      "WARNING:absl:Compiled the loaded model, but the compiled metrics have yet to be built. `model.compile_metrics` will be empty until you train or evaluate the model.\n"
     ]
    },
    {
     "name": "stdout",
     "output_type": "stream",
     "text": [
      "Model already exists\n"
     ]
    },
    {
     "data": {
      "application/vnd.jupyter.widget-view+json": {
       "model_id": "4a4ed37157164829aec9d10e6b66d37d",
       "version_major": 2,
       "version_minor": 0
      },
      "text/plain": [
       "Loading checkpoint shards:   0%|          | 0/4 [00:00<?, ?it/s]"
      ]
     },
     "metadata": {},
     "output_type": "display_data"
    },
    {
     "name": "stdout",
     "output_type": "stream",
     "text": [
      "* Running on local URL:  http://127.0.0.1:7860\n",
      "\n",
      "To create a public link, set `share=True` in `launch()`.\n"
     ]
    },
    {
     "data": {
      "text/html": [
       "<div><iframe src=\"http://127.0.0.1:7860/\" width=\"100%\" height=\"900\" allow=\"autoplay; camera; microphone; clipboard-read; clipboard-write;\" frameborder=\"0\" allowfullscreen></iframe></div>"
      ],
      "text/plain": [
       "<IPython.core.display.HTML object>"
      ]
     },
     "metadata": {},
     "output_type": "display_data"
    },
    {
     "data": {
      "text/plain": []
     },
     "execution_count": 1,
     "metadata": {},
     "output_type": "execute_result"
    },
    {
     "name": "stderr",
     "output_type": "stream",
     "text": [
      "Truncation was not explicitly activated but `max_length` is provided a specific value, please use `truncation=True` to explicitly truncate examples to max length. Defaulting to 'longest_first' truncation strategy. If you encode pairs of sequences (GLUE-style) with the tokenizer you can select this strategy more precisely by providing a specific strategy to `truncation`.\n",
      "Starting from v4.46, the `logits` model output will have the same type as the model (except at train time, where it will always be FP32)\n"
     ]
    }
   ],
   "source": [
    "import gradio as gr\n",
    "import numpy as np\n",
    "import os\n",
    "from model import main, load_trained_model, preprocess_input, predict\n",
    "from transformers import pipeline\n",
    "\n",
    "# Create Model\n",
    "if not os.path.exists('diabetes_model.h5'):\n",
    "    main()\n",
    "else:\n",
    "    print('Model already exists')\n",
    "# Load your trained model\n",
    "model = load_trained_model('diabetes_model.h5')\n",
    "\n",
    "# Prediction function\n",
    "def predict_diabetes(HighBP, HighChol, CholCheck, BMI, Smoker, Stroke, HeartDiseaseorAttack,\n",
    "                     PhysActivity, Fruits, Veggies, HvyAlcoholConsump, GenHlth,\n",
    "                     MentHlth, PhysHlth, DiffWalk, Sex, Age, Education, Income,\n",
    "                     AnyHealthcare, NoDocbcCost):\n",
    "\n",
    "    # Collect user input data into a list\n",
    "    user_data = [HighBP, HighChol, CholCheck, BMI, Smoker, Stroke, HeartDiseaseorAttack,\n",
    "                     PhysActivity, Fruits, Veggies, HvyAlcoholConsump, GenHlth,\n",
    "                     MentHlth, PhysHlth, DiffWalk, Sex, Age, Education, Income,\n",
    "                     AnyHealthcare, NoDocbcCost]\n",
    "    \n",
    "    # Replace None with 0\n",
    "    user_data = [0 if v is None else v for v in user_data]\n",
    "\n",
    "    # Print user_data to inspect the values\n",
    "    print(f\"User data: {user_data}\")\n",
    "\n",
    "    # Convert to a 2D numpy array (1 sample, 20 features)\n",
    "    user_data_np = np.array(user_data)  \n",
    "\n",
    "    # Flatten the array to ensure shape is (1, 20)\n",
    "    # user_data_np = user_data_np.reshape(1, -1)\n",
    "\n",
    "    # Ensure the shape is correct before preprocessing\n",
    "    print(f\"User data shape after reshaping: {user_data_np.shape}\")\n",
    "\n",
    "    # Preprocess the input if needed\n",
    "    processed_data = preprocess_input(user_data_np)\n",
    "    \n",
    "    # Ensure the processed data is reshaped correctly before prediction\n",
    "    # processed_data = np.array(processed_data).reshape(1, -1)  # Reshape to (1, 20) if needed\n",
    "\n",
    "    # Predict using the loaded model\n",
    "    prediction = predict(processed_data, model)\n",
    "\n",
    "    return prediction\n",
    "\n",
    "# Conversation model for chatbot\n",
    "class ConversationModel:\n",
    "    def __init__(self, model_name=\"m42-health/Llama3-Med42-8B\"):\n",
    "        self.pipe = pipeline(\"text-generation\", model=model_name)\n",
    "\n",
    "    def ask(self, messages, max_new_tokens=200):\n",
    "        response = self.pipe(messages, max_length=1024, do_sample=True)\n",
    "        return response[0]['generated_text']\n",
    "\n",
    "# Initialize the chatbot\n",
    "chatbot_model = ConversationModel()\n",
    "\n",
    "# Function to handle chatbot conversation\n",
    "def chat_with_bot(user_message):\n",
    "    return chatbot_model.ask(user_message)\n",
    "\n",
    "# Define the Gradio interface\n",
    "diabetes_interface = gr.Interface(\n",
    "    fn=predict_diabetes,\n",
    "    inputs=[\n",
    "        gr.components.Dropdown([0, 1], label=\"High Blood Pressure (HighBP)\"),\n",
    "        gr.components.Dropdown([0, 1], label=\"Cholesterol Check (CholCheck)\"),\n",
    "        gr.components.Dropdown([0, 1], label=\"High Cholesterol\"),\n",
    "        gr.components.Slider(10, 50, step=1, label=\"BMI (weight (in kg) / height (in meters)²)\"),\n",
    "        gr.components.Dropdown([0, 1], label=\"Smoker\"),\n",
    "        gr.components.Dropdown([0, 1], label=\"Stroke\"),\n",
    "        gr.components.Dropdown([0, 1], label=\"Heart Disease or Attack\"),\n",
    "        gr.components.Dropdown([0, 1], label=\"Physical Activity (PhysActivity)\"),\n",
    "        gr.components.Dropdown([0, 1], label=\"Eats Fruits\"),\n",
    "        gr.components.Dropdown([0, 1], label=\"Eats Veggies\"),\n",
    "        gr.components.Dropdown([0, 1], label=\"Heavy Alcohol Consumption\"),\n",
    "        gr.components.Slider(1, 5, step=1, label=\"General Health (GenHlth) (scale: 1:excelent, 2:very good, 3:good, 4:fair, 5:poor)\"),\n",
    "        gr.components.Slider(0, 30, step=1, label=\"Mental Health Days (MentHlth) (scale: 1-30 how many days during the past 30 days was your mental health not good)\"),\n",
    "        gr.components.Slider(0, 30, step=1, label=\"Physical Health Days (PhysHlth) (scale: 1-30 how many days during the past 30 days was your physical health not good)\"),\n",
    "        gr.components.Dropdown([0, 1], label=\"Difficulty Walking (DiffWalk)\"),\n",
    "        gr.components.Dropdown([0, 1], label=\"Sex (0=Female, 1=Male)\"),\n",
    "        gr.components.Slider(1, 13, step=1, label=\"Age (scale: 1:18-24, 2:25-29, 3:30-34, 4:35-39, 5:40-44, 6:45-49, 7:50-54, 8:55-59, 9:60-64, 10:65-69, 11:70-74, 12:75-79, 13:80+)\"),\n",
    "        gr.components.Slider(1, 6, step=1, label=\"Education Level (scale: 1:never attended school/only K, 2: grades 1-8, 3: grades 9-11, 4: grades 12-GED, 5: college 1yr-3yr, 6: college 4yr+)\"),\n",
    "        gr.components.Slider(1, 8, step=1, label=\"Income Level (scale: 1: <$10,000, 2: <$15,000, 3: <$20,000, 4: <$25,000, 5: <$35,000, 6: <$50,000, 7: <$75,000, 8:$>75,000)\"),\n",
    "        gr.components.Dropdown([0, 1], label=\"Any Healthcare Access\"),\n",
    "        gr.components.Dropdown([0, 1], label=\"Was there a time in the past 12 months where you couldnt see a doctor because of cost?\"),\n",
    "    ],\n",
    "    outputs=gr.Textbox(label=\"Prediction\"),\n",
    "    title=\"Diabetes Assesment Tool\",\n",
    "    description=\"This interface is a risk assesment tool and not a diagnostic tool. If results are positive we recommend visiting your physician to confirm your risk of diabetes. Enter your information to predict the risk of diabetes (0=no 1=yes). THIS IS A RISK ASSESMENT TOOL NOT A DIAGNOSTIC TOOL. This tool was made using data from the CDC\",\n",
    ")\n",
    "# Chatbot interface for medical conversations\n",
    "chat_interface = gr.Interface(\n",
    "    fn=chat_with_bot,\n",
    "    inputs=gr.Textbox(lines=2, label=\"Ask a medical question\"),\n",
    "    outputs=gr.Textbox(label=\"Chatbot Response\"),\n",
    "    title=\"Medical Chatbot\",\n",
    "    description=\"Ask any medical-related question, and the bot will respond.\"\n",
    ")\n",
    "\n",
    "# Create a Tabbed Interface combining both\n",
    "tabbed_interface = gr.TabbedInterface([diabetes_interface, chat_interface], [\"Diabetes Prediction\", \"Medical Chatbot\"])\n",
    "\n",
    "\n",
    "# Launch the combined interface\n",
    "tabbed_interface.launch(height=900)\n"
   ]
  }
 ],
 "metadata": {
  "kernelspec": {
   "display_name": "dev",
   "language": "python",
   "name": "python3"
  },
  "language_info": {
   "codemirror_mode": {
    "name": "ipython",
    "version": 3
   },
   "file_extension": ".py",
   "mimetype": "text/x-python",
   "name": "python",
   "nbconvert_exporter": "python",
   "pygments_lexer": "ipython3",
   "version": "3.11.8"
  }
 },
 "nbformat": 4,
 "nbformat_minor": 2
}
