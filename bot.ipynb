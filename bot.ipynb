{
 "cells": [
  {
   "cell_type": "code",
   "execution_count": 2,
   "metadata": {},
   "outputs": [],
   "source": [
    "# import pandas as pd\n",
    "# from transformers import pipeline\n",
    "# from transformers import AutoModelForSequenceClassification\n",
    "# import torch\n",
    "# from torch.utils.data import DataLoader\n",
    "# from transformers import Trainer, TrainingArguments,AutoTokenizer\n",
    "# from sklearn.preprocessing import StandardScaler\n",
    "# from sklearn.model_selection import train_test_split\n",
    "# from torch.utils.data import DataLoader"
   ]
  },
  {
   "cell_type": "code",
   "execution_count": null,
   "metadata": {},
   "outputs": [],
   "source": [
    "# Use a pipeline as a high-level helper\n",
    "from transformers import pipeline\n",
    "import gradio as gr\n",
    "import numpy as np\n",
    "import tensorflow as tf"
   ]
  },
  {
   "cell_type": "code",
   "execution_count": 2,
   "metadata": {},
   "outputs": [],
   "source": [
    "# Step 1: Define a class or function for interacting with the model\n",
    "class ConversationModel:\n",
    "    def __init__(self, model_name=\"m42-health/Llama3-Med42-8B\"):\n",
    "        # Load the model once when the class is initialized\n",
    "        self.pipe = pipeline(\"text-generation\", model=model_name)\n",
    "\n",
    "    def ask(self, messages, max_new_tokens=200):\n",
    "        # Send the messages to the model and return the response\n",
    "        return self.pipe(messages, max_length=2048, do_sample=True)"
   ]
  },
  {
   "cell_type": "code",
   "execution_count": null,
   "metadata": {},
   "outputs": [],
   "source": [
    "model_instance = ConversationModel()"
   ]
  },
  {
   "cell_type": "code",
   "execution_count": null,
   "metadata": {},
   "outputs": [],
   "source": [
    "messages = [{\"role\": \"user\", \"content\": \"what is diabetes\"}]\n",
    "response = model_instance.ask(messages)\n"
   ]
  },
  {
   "cell_type": "code",
   "execution_count": null,
   "metadata": {},
   "outputs": [],
   "source": [
    "print(response)"
   ]
  },
  {
   "cell_type": "code",
   "execution_count": null,
   "metadata": {},
   "outputs": [
    {
     "name": "stderr",
     "output_type": "stream",
     "text": [
      "WARNING:absl:Compiled the loaded model, but the compiled metrics have yet to be built. `model.compile_metrics` will be empty until you train or evaluate the model.\n"
     ]
    },
    {
     "ename": "AttributeError",
     "evalue": "module 'gradio' has no attribute 'inputs'",
     "output_type": "error",
     "traceback": [
      "\u001b[1;31m---------------------------------------------------------------------------\u001b[0m",
      "\u001b[1;31mAttributeError\u001b[0m                            Traceback (most recent call last)",
      "Cell \u001b[1;32mIn[2], line 32\u001b[0m\n\u001b[0;32m     28\u001b[0m     \u001b[38;5;28;01mreturn\u001b[39;00m prediction\n\u001b[0;32m     30\u001b[0m \u001b[38;5;66;03m# Define the Gradio interface\u001b[39;00m\n\u001b[0;32m     31\u001b[0m input_features \u001b[38;5;241m=\u001b[39m [\n\u001b[1;32m---> 32\u001b[0m     \u001b[43mgr\u001b[49m\u001b[38;5;241;43m.\u001b[39;49m\u001b[43minputs\u001b[49m\u001b[38;5;241m.\u001b[39mSlider(\u001b[38;5;241m0\u001b[39m, \u001b[38;5;241m1\u001b[39m, label\u001b[38;5;241m=\u001b[39m\u001b[38;5;124m\"\u001b[39m\u001b[38;5;124mHigh Blood Pressure (0 or 1)\u001b[39m\u001b[38;5;124m\"\u001b[39m),\n\u001b[0;32m     33\u001b[0m     gr\u001b[38;5;241m.\u001b[39minputs\u001b[38;5;241m.\u001b[39mSlider(\u001b[38;5;241m0\u001b[39m, \u001b[38;5;241m1\u001b[39m, label\u001b[38;5;241m=\u001b[39m\u001b[38;5;124m\"\u001b[39m\u001b[38;5;124mCholesterol Check (0 or 1)\u001b[39m\u001b[38;5;124m\"\u001b[39m),\n\u001b[0;32m     34\u001b[0m     gr\u001b[38;5;241m.\u001b[39minputs\u001b[38;5;241m.\u001b[39mNumber(label\u001b[38;5;241m=\u001b[39m\u001b[38;5;124m\"\u001b[39m\u001b[38;5;124mBMI\u001b[39m\u001b[38;5;124m\"\u001b[39m),\n\u001b[0;32m     35\u001b[0m     gr\u001b[38;5;241m.\u001b[39minputs\u001b[38;5;241m.\u001b[39mSlider(\u001b[38;5;241m0\u001b[39m, \u001b[38;5;241m1\u001b[39m, label\u001b[38;5;241m=\u001b[39m\u001b[38;5;124m\"\u001b[39m\u001b[38;5;124mSmoker (0 or 1)\u001b[39m\u001b[38;5;124m\"\u001b[39m),\n\u001b[0;32m     36\u001b[0m     gr\u001b[38;5;241m.\u001b[39minputs\u001b[38;5;241m.\u001b[39mSlider(\u001b[38;5;241m0\u001b[39m, \u001b[38;5;241m1\u001b[39m, label\u001b[38;5;241m=\u001b[39m\u001b[38;5;124m\"\u001b[39m\u001b[38;5;124mStroke (0 or 1)\u001b[39m\u001b[38;5;124m\"\u001b[39m),\n\u001b[0;32m     37\u001b[0m     gr\u001b[38;5;241m.\u001b[39minputs\u001b[38;5;241m.\u001b[39mSlider(\u001b[38;5;241m0\u001b[39m, \u001b[38;5;241m1\u001b[39m, label\u001b[38;5;241m=\u001b[39m\u001b[38;5;124m\"\u001b[39m\u001b[38;5;124mHeart Disease or Attack (0 or 1)\u001b[39m\u001b[38;5;124m\"\u001b[39m),\n\u001b[0;32m     38\u001b[0m     gr\u001b[38;5;241m.\u001b[39minputs\u001b[38;5;241m.\u001b[39mSlider(\u001b[38;5;241m0\u001b[39m, \u001b[38;5;241m1\u001b[39m, label\u001b[38;5;241m=\u001b[39m\u001b[38;5;124m\"\u001b[39m\u001b[38;5;124mPhysical Activity (0 or 1)\u001b[39m\u001b[38;5;124m\"\u001b[39m),\n\u001b[0;32m     39\u001b[0m     gr\u001b[38;5;241m.\u001b[39minputs\u001b[38;5;241m.\u001b[39mSlider(\u001b[38;5;241m0\u001b[39m, \u001b[38;5;241m1\u001b[39m, label\u001b[38;5;241m=\u001b[39m\u001b[38;5;124m\"\u001b[39m\u001b[38;5;124mFruits Consumption (0 or 1)\u001b[39m\u001b[38;5;124m\"\u001b[39m),\n\u001b[0;32m     40\u001b[0m     gr\u001b[38;5;241m.\u001b[39minputs\u001b[38;5;241m.\u001b[39mSlider(\u001b[38;5;241m0\u001b[39m, \u001b[38;5;241m1\u001b[39m, label\u001b[38;5;241m=\u001b[39m\u001b[38;5;124m\"\u001b[39m\u001b[38;5;124mVegetable Consumption (0 or 1)\u001b[39m\u001b[38;5;124m\"\u001b[39m),\n\u001b[0;32m     41\u001b[0m     gr\u001b[38;5;241m.\u001b[39minputs\u001b[38;5;241m.\u001b[39mSlider(\u001b[38;5;241m0\u001b[39m, \u001b[38;5;241m1\u001b[39m, label\u001b[38;5;241m=\u001b[39m\u001b[38;5;124m\"\u001b[39m\u001b[38;5;124mHeavy Alcohol Consumption (0 or 1)\u001b[39m\u001b[38;5;124m\"\u001b[39m),\n\u001b[0;32m     42\u001b[0m     gr\u001b[38;5;241m.\u001b[39minputs\u001b[38;5;241m.\u001b[39mNumber(label\u001b[38;5;241m=\u001b[39m\u001b[38;5;124m\"\u001b[39m\u001b[38;5;124mGeneral Health (1-5)\u001b[39m\u001b[38;5;124m\"\u001b[39m),\n\u001b[0;32m     43\u001b[0m     gr\u001b[38;5;241m.\u001b[39minputs\u001b[38;5;241m.\u001b[39mNumber(label\u001b[38;5;241m=\u001b[39m\u001b[38;5;124m\"\u001b[39m\u001b[38;5;124mMental Health (0-30 days)\u001b[39m\u001b[38;5;124m\"\u001b[39m),\n\u001b[0;32m     44\u001b[0m     gr\u001b[38;5;241m.\u001b[39minputs\u001b[38;5;241m.\u001b[39mNumber(label\u001b[38;5;241m=\u001b[39m\u001b[38;5;124m\"\u001b[39m\u001b[38;5;124mPhysical Health (0-30 days)\u001b[39m\u001b[38;5;124m\"\u001b[39m),\n\u001b[0;32m     45\u001b[0m     gr\u001b[38;5;241m.\u001b[39minputs\u001b[38;5;241m.\u001b[39mSlider(\u001b[38;5;241m0\u001b[39m, \u001b[38;5;241m1\u001b[39m, label\u001b[38;5;241m=\u001b[39m\u001b[38;5;124m\"\u001b[39m\u001b[38;5;124mDifficulty Walking (0 or 1)\u001b[39m\u001b[38;5;124m\"\u001b[39m),\n\u001b[0;32m     46\u001b[0m     gr\u001b[38;5;241m.\u001b[39minputs\u001b[38;5;241m.\u001b[39mSlider(\u001b[38;5;241m0\u001b[39m, \u001b[38;5;241m1\u001b[39m, label\u001b[38;5;241m=\u001b[39m\u001b[38;5;124m\"\u001b[39m\u001b[38;5;124mSex (0 for female, 1 for male)\u001b[39m\u001b[38;5;124m\"\u001b[39m),\n\u001b[0;32m     47\u001b[0m     gr\u001b[38;5;241m.\u001b[39minputs\u001b[38;5;241m.\u001b[39mNumber(label\u001b[38;5;241m=\u001b[39m\u001b[38;5;124m\"\u001b[39m\u001b[38;5;124mAge (1-13 scale)\u001b[39m\u001b[38;5;124m\"\u001b[39m),\n\u001b[0;32m     48\u001b[0m     gr\u001b[38;5;241m.\u001b[39minputs\u001b[38;5;241m.\u001b[39mNumber(label\u001b[38;5;241m=\u001b[39m\u001b[38;5;124m\"\u001b[39m\u001b[38;5;124mEducation (1-6 scale)\u001b[39m\u001b[38;5;124m\"\u001b[39m),\n\u001b[0;32m     49\u001b[0m     gr\u001b[38;5;241m.\u001b[39minputs\u001b[38;5;241m.\u001b[39mNumber(label\u001b[38;5;241m=\u001b[39m\u001b[38;5;124m\"\u001b[39m\u001b[38;5;124mIncome (1-8 scale)\u001b[39m\u001b[38;5;124m\"\u001b[39m),\n\u001b[0;32m     50\u001b[0m     gr\u001b[38;5;241m.\u001b[39minputs\u001b[38;5;241m.\u001b[39mSlider(\u001b[38;5;241m0\u001b[39m, \u001b[38;5;241m1\u001b[39m, label\u001b[38;5;241m=\u001b[39m\u001b[38;5;124m\"\u001b[39m\u001b[38;5;124mAny Healthcare (0 or 1)\u001b[39m\u001b[38;5;124m\"\u001b[39m),\n\u001b[0;32m     51\u001b[0m     gr\u001b[38;5;241m.\u001b[39minputs\u001b[38;5;241m.\u001b[39mSlider(\u001b[38;5;241m0\u001b[39m, \u001b[38;5;241m1\u001b[39m, label\u001b[38;5;241m=\u001b[39m\u001b[38;5;124m\"\u001b[39m\u001b[38;5;124mNo Doctor due to Cost (0 or 1)\u001b[39m\u001b[38;5;124m\"\u001b[39m)\n\u001b[0;32m     52\u001b[0m ]\n\u001b[0;32m     54\u001b[0m output \u001b[38;5;241m=\u001b[39m gr\u001b[38;5;241m.\u001b[39moutputs\u001b[38;5;241m.\u001b[39mTextbox(label\u001b[38;5;241m=\u001b[39m\u001b[38;5;124m\"\u001b[39m\u001b[38;5;124mPrediction\u001b[39m\u001b[38;5;124m\"\u001b[39m)\n\u001b[0;32m     56\u001b[0m \u001b[38;5;66;03m# Create the Gradio interface\u001b[39;00m\n",
      "\u001b[1;31mAttributeError\u001b[0m: module 'gradio' has no attribute 'inputs'"
     ]
    }
   ],
   "source": [
    "import gradio as gr\n",
    "import numpy as np\n",
    "from model import main, load_trained_model, preprocess_input, predict\n",
    "\n",
    "# Load your trained model\n",
    "model = load_trained_model('diabetes_model.h5')\n",
    "\n",
    "# Prediction function\n",
    "def predict_diabetes(HighBP, CholCheck, BMI, Smoker, Stroke, HeartDiseaseorAttack,\n",
    "                     PhysActivity, Fruits, Veggies, HvyAlcoholConsump, GenHlth,\n",
    "                     MentHlth, PhysHlth, DiffWalk, Sex, Age, Education, Income,\n",
    "                     AnyHealthcare, NoDocbcCost):\n",
    "\n",
    "# Collect user input data into a list\n",
    "    user_data = [HighBP, CholCheck, BMI, Smoker, Stroke, HeartDiseaseorAttack, PhysActivity,\n",
    "                 Fruits, Veggies, HvyAlcoholConsump, GenHlth, MentHlth, PhysHlth, DiffWalk,\n",
    "                 Sex, Age, Education, Income, AnyHealthcare, NoDocbcCost]\n",
    "\n",
    "    # Ensure user_data is a 2D numpy array with shape (1, n)\n",
    "    user_data_np = np.array([user_data])  # Convert to 2D numpy array for model input\n",
    "\n",
    "    # Preprocess the input if needed (optional if your model expects raw inputs directly)\n",
    "    processed_data = preprocess_input(user_data_np)\n",
    "\n",
    "    # Predict using the loaded model\n",
    "    prediction = predict(processed_data, model)\n",
    "\n",
    "    return prediction\n",
    "\n",
    "# Define the Gradio interface\n",
    "interface = gr.Interface(\n",
    "    fn=predict_diabetes,  # Function to call when inputs are submitted\n",
    "    inputs=[\n",
    "        gr.components.Dropdown([0, 1], label=\"High Blood Pressure (HighBP)\"),\n",
    "        gr.components.Dropdown([0, 1], label=\"Cholesterol Check (CholCheck)\"),\n",
    "        gr.components.Slider(10, 50, step=1, label=\"BMI\"),\n",
    "        gr.components.Dropdown([0, 1], label=\"Smoker\"),\n",
    "        gr.components.Dropdown([0, 1], label=\"Stroke\"),\n",
    "        gr.components.Dropdown([0, 1], label=\"Heart Disease or Attack\"),\n",
    "        gr.components.Dropdown([0, 1], label=\"Physical Activity (PhysActivity)\"),\n",
    "        gr.components.Dropdown([0, 1], label=\"Eats Fruits\"),\n",
    "        gr.components.Dropdown([0, 1], label=\"Eats Veggies\"),\n",
    "        gr.components.Dropdown([0, 1], label=\"Heavy Alcohol Consumption\"),\n",
    "        gr.components.Slider(1, 5, step=1, label=\"General Health (GenHlth)\"),\n",
    "        gr.components.Slider(0, 30, step=1, label=\"Mental Health Days (MentHlth)\"),\n",
    "        gr.components.Slider(0, 30, step=1, label=\"Physical Health Days (PhysHlth)\"),\n",
    "        gr.components.Dropdown([0, 1], label=\"Difficulty Walking (DiffWalk)\"),\n",
    "        gr.components.Dropdown([0, 1], label=\"Sex (0=Female, 1=Male)\"),\n",
    "        gr.components.Slider(18, 80, step=1, label=\"Age\"),\n",
    "        gr.components.Slider(1, 12, step=1, label=\"Education Level\"),\n",
    "        gr.components.Slider(1, 8, step=1, label=\"Income Level\"),\n",
    "        gr.components.Dropdown([0, 1], label=\"Any Healthcare Access\"),\n",
    "        gr.components.Dropdown([0, 1], label=\"No Doctor Because of Cost\"),\n",
    "    ],\n",
    "    outputs=gr.Textbox(label=\"Prediction\"),  # Output will be a text prediction\n",
    "    title=\"Diabetes Prediction\",\n",
    "    description=\"Enter your information to predict the risk of diabetes. (0=no 1=yes)\",\n",
    ")\n",
    "\n",
    "# Launch the Gradio interface\n",
    "interface.launch()\n"
   ]
  }
 ],
 "metadata": {
  "kernelspec": {
   "display_name": "dev",
   "language": "python",
   "name": "python3"
  },
  "language_info": {
   "codemirror_mode": {
    "name": "ipython",
    "version": 3
   },
   "file_extension": ".py",
   "mimetype": "text/x-python",
   "name": "python",
   "nbconvert_exporter": "python",
   "pygments_lexer": "ipython3",
   "version": "3.10.15"
  }
 },
 "nbformat": 4,
 "nbformat_minor": 2
}
