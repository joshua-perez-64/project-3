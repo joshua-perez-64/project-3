{
 "cells": [
  {
   "cell_type": "code",
   "execution_count": 2,
   "metadata": {},
   "outputs": [],
   "source": [
    "# import pandas as pd\n",
    "# from transformers import pipeline\n",
    "# from transformers import AutoModelForSequenceClassification\n",
    "# import torch\n",
    "# from torch.utils.data import DataLoader\n",
    "# from transformers import Trainer, TrainingArguments,AutoTokenizer\n",
    "# from sklearn.preprocessing import StandardScaler\n",
    "# from sklearn.model_selection import train_test_split\n",
    "# from torch.utils.data import DataLoader"
   ]
  },
  {
   "cell_type": "code",
   "execution_count": null,
   "metadata": {},
   "outputs": [],
   "source": [
    "# Use a pipeline as a high-level helper\n",
    "from transformers import pipeline\n",
    "import gradio as gr\n",
    "import numpy as np\n",
    "import tensorflow as tf"
   ]
  },
  {
   "cell_type": "code",
   "execution_count": 2,
   "metadata": {},
   "outputs": [],
   "source": [
    "# Step 1: Define a class or function for interacting with the model\n",
    "class ConversationModel:\n",
    "    def __init__(self, model_name=\"m42-health/Llama3-Med42-8B\"):\n",
    "        # Load the model once when the class is initialized\n",
    "        self.pipe = pipeline(\"text-generation\", model=model_name)\n",
    "\n",
    "    def ask(self, messages, max_new_tokens=200):\n",
    "        # Send the messages to the model and return the response\n",
    "        return self.pipe(messages, max_length=2048, do_sample=True)"
   ]
  },
  {
   "cell_type": "code",
   "execution_count": null,
   "metadata": {},
   "outputs": [],
   "source": [
    "model_instance = ConversationModel()"
   ]
  },
  {
   "cell_type": "code",
   "execution_count": null,
   "metadata": {},
   "outputs": [],
   "source": [
    "messages = [{\"role\": \"user\", \"content\": \"what is diabetes\"}]\n",
    "response = model_instance.ask(messages)\n"
   ]
  },
  {
   "cell_type": "code",
   "execution_count": null,
   "metadata": {},
   "outputs": [],
   "source": [
    "print(response)"
   ]
  },
  {
   "cell_type": "code",
   "execution_count": 1,
   "metadata": {},
   "outputs": [
    {
     "name": "stderr",
     "output_type": "stream",
     "text": [
      "WARNING:absl:Compiled the loaded model, but the compiled metrics have yet to be built. `model.compile_metrics` will be empty until you train or evaluate the model.\n"
     ]
    },
    {
     "name": "stdout",
     "output_type": "stream",
     "text": [
      "Model already exists\n",
      "* Running on local URL:  http://127.0.0.1:7860\n",
      "\n",
      "To create a public link, set `share=True` in `launch()`.\n"
     ]
    },
    {
     "data": {
      "text/html": [
       "<div><iframe src=\"http://127.0.0.1:7860/\" width=\"100%\" height=\"500\" allow=\"autoplay; camera; microphone; clipboard-read; clipboard-write;\" frameborder=\"0\" allowfullscreen></iframe></div>"
      ],
      "text/plain": [
       "<IPython.core.display.HTML object>"
      ]
     },
     "metadata": {},
     "output_type": "display_data"
    },
    {
     "data": {
      "text/plain": []
     },
     "execution_count": 1,
     "metadata": {},
     "output_type": "execute_result"
    }
   ],
   "source": [
    "import gradio as gr\n",
    "import numpy as np\n",
    "import os\n",
    "from model import main, load_trained_model, preprocess_input, predict\n",
    "\n",
    "# Create Model\n",
    "if not os.path.exists('diabetes_model.h5'):\n",
    "    main()\n",
    "else:\n",
    "    print('Model already exists')\n",
    "\n",
    "# Load your trained model\n",
    "model = load_trained_model('diabetes_model.h5')\n",
    "\n",
    "# Prediction function\n",
    "def predict_diabetes(HighBP, CholCheck, BMI, Smoker, Stroke, HeartDiseaseorAttack,\n",
    "                     PhysActivity, Fruits, Veggies, HvyAlcoholConsump, GenHlth,\n",
    "                     MentHlth, PhysHlth, DiffWalk, Sex, Age, Education, Income,\n",
    "                     AnyHealthcare, NoDocbcCost):\n",
    "\n",
    "# Collect user input data into a list\n",
    "    user_data = [HighBP, CholCheck, BMI, Smoker, Stroke, HeartDiseaseorAttack, PhysActivity,\n",
    "                 Fruits, Veggies, HvyAlcoholConsump, GenHlth, MentHlth, PhysHlth, DiffWalk,\n",
    "                 Sex, Age, Education, Income, AnyHealthcare, NoDocbcCost]\n",
    "\n",
    "    # Ensure user_data is a 2D numpy array with shape (1, n)\n",
    "    user_data_np = np.array([user_data])  # Convert to 2D numpy array for model input\n",
    "\n",
    "    # Preprocess the input if needed (optional if your model expects raw inputs directly)\n",
    "    processed_data = preprocess_input(user_data_np)\n",
    "\n",
    "    # Predict using the loaded model\n",
    "    prediction = predict(processed_data, model)\n",
    "\n",
    "    return prediction\n",
    "\n",
    "# Define the Gradio interface\n",
    "interface = gr.Interface(\n",
    "    fn=predict_diabetes,  # Function to call when inputs are submitted\n",
    "    inputs=[\n",
    "        gr.components.Dropdown([0, 1], label=\"High Blood Pressure (HighBP)\"),\n",
    "        gr.components.Dropdown([0, 1], label=\"Cholesterol Check (CholCheck)\"),\n",
    "        gr.components.Slider(10, 50, step=1, label=\"BMI\"),\n",
    "        gr.components.Dropdown([0, 1], label=\"Smoker\"),\n",
    "        gr.components.Dropdown([0, 1], label=\"Stroke\"),\n",
    "        gr.components.Dropdown([0, 1], label=\"Heart Disease or Attack\"),\n",
    "        gr.components.Dropdown([0, 1], label=\"Physical Activity (PhysActivity)\"),\n",
    "        gr.components.Dropdown([0, 1], label=\"Eats Fruits\"),\n",
    "        gr.components.Dropdown([0, 1], label=\"Eats Veggies\"),\n",
    "        gr.components.Dropdown([0, 1], label=\"Heavy Alcohol Consumption\"),\n",
    "        gr.components.Slider(1, 5, step=1, label=\"General Health (GenHlth)\"),\n",
    "        gr.components.Slider(0, 30, step=1, label=\"Mental Health Days (MentHlth)\"),\n",
    "        gr.components.Slider(0, 30, step=1, label=\"Physical Health Days (PhysHlth)\"),\n",
    "        gr.components.Dropdown([0, 1], label=\"Difficulty Walking (DiffWalk)\"),\n",
    "        gr.components.Dropdown([0, 1], label=\"Sex (0=Female, 1=Male)\"),\n",
    "        gr.components.Slider(18, 80, step=1, label=\"Age\"),\n",
    "        gr.components.Slider(1, 12, step=1, label=\"Education Level\"),\n",
    "        gr.components.Slider(1, 8, step=1, label=\"Income Level\"),\n",
    "        gr.components.Dropdown([0, 1], label=\"Any Healthcare Access\"),\n",
    "        gr.components.Dropdown([0, 1], label=\"No Doctor Because of Cost\"),\n",
    "    ],\n",
    "    outputs=gr.Textbox(label=\"Prediction\"),  # Output will be a text prediction\n",
    "    title=\"Diabetes Prediction\",\n",
    "    description=\"Enter your information to predict the risk of diabetes. (0=no 1=yes)\",\n",
    ")\n",
    "\n",
    "# Launch the Gradio interface\n",
    "interface.launch()\n"
   ]
  }
 ],
 "metadata": {
  "kernelspec": {
   "display_name": "dev",
   "language": "python",
   "name": "python3"
  },
  "language_info": {
   "codemirror_mode": {
    "name": "ipython",
    "version": 3
   },
   "file_extension": ".py",
   "mimetype": "text/x-python",
   "name": "python",
   "nbconvert_exporter": "python",
   "pygments_lexer": "ipython3",
   "version": "3.10.14"
  }
 },
 "nbformat": 4,
 "nbformat_minor": 2
}
