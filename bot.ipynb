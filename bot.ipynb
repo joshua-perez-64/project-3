{
 "cells": [
  {
   "cell_type": "code",
   "execution_count": null,
   "metadata": {},
   "outputs": [],
   "source": [
    "# Import the pipeline module from the Hugging Face Transformers library,\n",
    "# which allows for easy loading and usage of pre-trained models for various NLP tasks.\n",
    "from transformers import pipeline\n",
    "\n",
    "# Import Gradio, a library that simplifies the creation of user interfaces for machine learning models,\n",
    "# allowing you to build web apps for model inference.\n",
    "import gradio as gr\n",
    "\n",
    "# Import NumPy, a library for numerical computing in Python, useful for handling arrays and mathematical functions.\n",
    "import numpy as np\n",
    "\n",
    "# Import TensorFlow, an open-source machine learning framework commonly used for building and training deep learning models.\n",
    "import tensorflow as tf"
   ]
  },
  {
   "cell_type": "code",
   "execution_count": null,
   "metadata": {},
   "outputs": [],
   "source": [
    "# Step 1: Define a class for the model with a function for interacting w/ it\n",
    "class ConversationModel:\n",
    "    def __init__(self, model_name=\"m42-health/Llama3-Med42-8B\"):\n",
    "        # Load the model once when the class is initialized\n",
    "        self.pipe = pipeline(\"text-generation\", model=model_name)\n",
    "\n",
    "    def ask(self, messages, max_new_tokens=200):\n",
    "        # Send the messages to the model and return the response\n",
    "        return self.pipe(messages, max_length=2048, do_sample=True)"
   ]
  },
  {
   "cell_type": "code",
   "execution_count": null,
   "metadata": {},
   "outputs": [],
   "source": [
    "# Instance of the Conversion Model Class\n",
    "model_instance = ConversationModel()"
   ]
  },
  {
   "cell_type": "code",
   "execution_count": null,
   "metadata": {},
   "outputs": [],
   "source": [
    "# Testing the model\n",
    "messages = [{\"role\": \"user\", \"content\": \"what is diabetes\"}]\n",
    "response = model_instance.ask(messages)\n",
    "print(response)"
   ]
  },
  {
   "cell_type": "code",
   "execution_count": null,
   "metadata": {},
   "outputs": [],
   "source": [
    "import gradio as gr\n",
    "import numpy as np\n",
    "import os\n",
    "from model import main, load_trained_model, preprocess_input, predict\n",
    "\n",
    "# Create Model\n",
    "if not os.path.exists('diabetes_model.h5'):\n",
    "    main() # builds model, loads diabetes data, trains and save training\n",
    "else:\n",
    "    print('Model already exists')\n",
    "\n",
    "# Load your trained model\n",
    "model = load_trained_model('diabetes_model.h5')\n",
    "\n",
    "# Prediction function\n",
    "def predict_diabetes(HighBP, CholCheck, BMI, Smoker, Stroke, HeartDiseaseorAttack,\n",
    "                     PhysActivity, Fruits, Veggies, HvyAlcoholConsump, GenHlth,\n",
    "                     MentHlth, PhysHlth, DiffWalk, Sex, Age, Education, Income,\n",
    "                     AnyHealthcare, NoDocbcCost):\n",
    "\n",
    "# Collect user input data into a list\n",
    "    user_data = [HighBP, CholCheck, BMI, Smoker, Stroke, HeartDiseaseorAttack, PhysActivity,\n",
    "                 Fruits, Veggies, HvyAlcoholConsump, GenHlth, MentHlth, PhysHlth, DiffWalk,\n",
    "                 Sex, Age, Education, Income, AnyHealthcare, NoDocbcCost]\n",
    "\n",
    "    # Ensure user_data is a 2D numpy array with shape (1, n)\n",
    "    user_data_np = np.array([user_data])  # Convert to 2D numpy array for model input\n",
    "\n",
    "    # Preprocess the input if needed (optional if your model expects raw inputs directly)\n",
    "    processed_data = preprocess_input(user_data_np)\n",
    "\n",
    "    # Predict using the loaded model\n",
    "    prediction = predict(processed_data, model)\n",
    "\n",
    "    return prediction\n",
    "\n",
    "# Define the Gradio interface\n",
    "interface = gr.Interface(\n",
    "    fn=predict_diabetes,  # Function to call when inputs are submitted\n",
    "    inputs=[\n",
    "        gr.components.Dropdown([0, 1], label=\"High Blood Pressure (HighBP)\"),\n",
    "        gr.components.Dropdown([0, 1], label=\"Cholesterol Check (CholCheck)\"),\n",
    "        gr.components.Slider(10, 50, step=1, label=\"BMI\"),\n",
    "        gr.components.Dropdown([0, 1], label=\"Smoker\"),\n",
    "        gr.components.Dropdown([0, 1], label=\"Stroke\"),\n",
    "        gr.components.Dropdown([0, 1], label=\"Heart Disease or Attack\"),\n",
    "        gr.components.Dropdown([0, 1], label=\"Physical Activity (PhysActivity)\"),\n",
    "        gr.components.Dropdown([0, 1], label=\"Eats Fruits\"),\n",
    "        gr.components.Dropdown([0, 1], label=\"Eats Veggies\"),\n",
    "        gr.components.Dropdown([0, 1], label=\"Heavy Alcohol Consumption\"),\n",
    "        gr.components.Slider(1, 5, step=1, label=\"General Health (GenHlth)\"),\n",
    "        gr.components.Slider(0, 30, step=1, label=\"Mental Health Days (MentHlth)\"),\n",
    "        gr.components.Slider(0, 30, step=1, label=\"Physical Health Days (PhysHlth)\"),\n",
    "        gr.components.Dropdown([0, 1], label=\"Difficulty Walking (DiffWalk)\"),\n",
    "        gr.components.Dropdown([0, 1], label=\"Sex (0=Female, 1=Male)\"),\n",
    "        gr.components.Slider(18, 80, step=1, label=\"Age\"),\n",
    "        gr.components.Slider(1, 12, step=1, label=\"Education Level\"),\n",
    "        gr.components.Slider(1, 8, step=1, label=\"Income Level\"),\n",
    "        gr.components.Dropdown([0, 1], label=\"Any Healthcare Access\"),\n",
    "        gr.components.Dropdown([0, 1], label=\"No Doctor Because of Cost\"),\n",
    "    ],\n",
    "    outputs=gr.Textbox(label=\"Prediction\"),  # Output will be a text prediction\n",
    "    title=\"Diabetes Prediction\",\n",
    "    description=\"Enter your information to predict the risk of diabetes. (0=no 1=yes)\",\n",
    ")\n",
    "\n",
    "# Launch the Gradio interface\n",
    "interface.launch()\n"
   ]
  }
 ],
 "metadata": {
  "kernelspec": {
   "display_name": "dev",
   "language": "python",
   "name": "python3"
  },
  "language_info": {
   "codemirror_mode": {
    "name": "ipython",
    "version": 3
   },
   "file_extension": ".py",
   "mimetype": "text/x-python",
   "name": "python",
   "nbconvert_exporter": "python",
   "pygments_lexer": "ipython3",
   "version": "3.10.14"
  }
 },
 "nbformat": 4,
 "nbformat_minor": 2
}
