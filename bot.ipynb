{
 "cells": [
  {
   "cell_type": "code",
   "execution_count": null,
   "metadata": {},
   "outputs": [],
   "source": [
    "# import pandas as pd\n",
    "# from transformers import pipeline\n",
    "# from transformers import AutoModelForSequenceClassification\n",
    "# import torch\n",
    "# from torch.utils.data import DataLoader\n",
    "# from transformers import Trainer, TrainingArguments,AutoTokenizer\n",
    "# from sklearn.preprocessing import StandardScaler\n",
    "# from sklearn.model_selection import train_test_split\n",
    "# from torch.utils.data import DataLoader"
   ]
  },
  {
   "cell_type": "code",
   "execution_count": 1,
   "metadata": {},
   "outputs": [],
   "source": [
    "# Use a pipeline as a high-level helper\n",
    "from transformers import pipeline\n",
    "import gradio as gr\n",
    "import numpy as np\n",
    "import tensorflow as tf"
   ]
  },
  {
   "cell_type": "code",
   "execution_count": 2,
   "metadata": {},
   "outputs": [],
   "source": [
    "# Step 1: Define a class or function for interacting with the model\n",
    "class ConversationModel:\n",
    "    def __init__(self, model_name=\"m42-health/Llama3-Med42-8B\"):\n",
    "        # Load the model once when the class is initialized\n",
    "        self.pipe = pipeline(\"text-generation\", model=model_name)\n",
    "\n",
    "    def ask(self, messages, max_new_tokens=200):\n",
    "        # Send the messages to the model and return the response\n",
    "        return self.pipe(messages, max_length=2048, do_sample=True)"
   ]
  },
  {
   "cell_type": "code",
   "execution_count": null,
   "metadata": {},
   "outputs": [],
   "source": [
    "model_instance = ConversationModel()"
   ]
  },
  {
   "cell_type": "code",
   "execution_count": null,
   "metadata": {},
   "outputs": [],
   "source": [
    "messages = [{\"role\": \"user\", \"content\": \"what is diabetes\"}]\n",
    "response = model_instance.ask(messages)\n"
   ]
  },
  {
   "cell_type": "code",
   "execution_count": null,
   "metadata": {},
   "outputs": [],
   "source": [
    "print(response)"
   ]
  },
  {
   "cell_type": "code",
   "execution_count": null,
   "metadata": {},
   "outputs": [],
   "source": []
  },
  {
   "cell_type": "code",
   "execution_count": null,
   "metadata": {},
   "outputs": [],
   "source": [
    "import gradio as gr\n",
    "import numpy as np\n",
    "from model import load_model  # Import the load_model function from model.py\n",
    "\n",
    "# Load your trained model\n",
    "model = load_model()\n",
    "\n",
    "# Prediction function\n",
    "def predict_diabetes(HighBP, CholCheck, BMI, Smoker, Stroke, HeartDiseaseorAttack,\n",
    "                     PhysActivity, Fruits, Veggies, HvyAlcoholConsump, GenHlth,\n",
    "                     MentHlth, PhysHlth, DiffWalk, Sex, Age, Education, Income,\n",
    "                     AnyHealthcare, NoDocbcCost):\n",
    "    \n",
    "    # Format the input data as expected by the model\n",
    "    input_data = np.array([[HighBP, CholCheck, BMI, Smoker, Stroke, HeartDiseaseorAttack,\n",
    "                            PhysActivity, Fruits, Veggies, HvyAlcoholConsump, GenHlth,\n",
    "                            MentHlth, PhysHlth, DiffWalk, Sex, Age, Education, Income,\n",
    "                            AnyHealthcare, NoDocbcCost]])\n",
    "\n",
    "    # Predict using the model (e.g., binary classification: 0 = No Diabetes, 1 = Diabetes)\n",
    "    prediction = model.predict(input_data)\n",
    "    prediction_label = 'Diabetes' if prediction[0] >= 0.5 else 'No Diabetes'\n",
    "    \n",
    "    return prediction_label\n",
    "\n",
    "# Define the Gradio interface\n",
    "interface = gr.Interface(\n",
    "    fn=predict_diabetes,  # Function to call when inputs are submitted\n",
    "    inputs=[\n",
    "        gr.inputs.Dropdown([0, 1], label=\"High Blood Pressure (HighBP)\"),\n",
    "        gr.inputs.Dropdown([0, 1], label=\"Cholesterol Check (CholCheck)\"),\n",
    "        gr.inputs.Slider(10, 50, step=1, label=\"BMI\"),\n",
    "        gr.inputs.Dropdown([0, 1], label=\"Smoker\"),\n",
    "        gr.inputs.Dropdown([0, 1], label=\"Stroke\"),\n",
    "        gr.inputs.Dropdown([0, 1], label=\"Heart Disease or Attack\"),\n",
    "        gr.inputs.Dropdown([0, 1], label=\"Physical Activity (PhysActivity)\"),\n",
    "        gr.inputs.Dropdown([0, 1], label=\"Eats Fruits\"),\n",
    "        gr.inputs.Dropdown([0, 1], label=\"Eats Veggies\"),\n",
    "        gr.inputs.Dropdown([0, 1], label=\"Heavy Alcohol Consumption\"),\n",
    "        gr.inputs.Slider(1, 5, step=1, label=\"General Health (GenHlth)\"),\n",
    "        gr.inputs.Slider(0, 30, step=1, label=\"Mental Health Days (MentHlth)\"),\n",
    "        gr.inputs.Slider(0, 30, step=1, label=\"Physical Health Days (PhysHlth)\"),\n",
    "        gr.inputs.Dropdown([0, 1], label=\"Difficulty Walking (DiffWalk)\"),\n",
    "        gr.inputs.Dropdown([0, 1], label=\"Sex (0=Female, 1=Male)\"),\n",
    "        gr.inputs.Slider(18, 80, step=1, label=\"Age\"),\n",
    "        gr.inputs.Slider(1, 12, step=1, label=\"Education Level\"),\n",
    "        gr.inputs.Slider(1, 8, step=1, label=\"Income Level\"),\n",
    "        gr.inputs.Dropdown([0, 1], label=\"Any Healthcare Access\"),\n",
    "        gr.inputs.Dropdown([0, 1], label=\"No Doctor Because of Cost\"),\n",
    "    ],\n",
    "    outputs=\"text\",  # Output will be a text prediction\n",
    "    title=\"Diabetes Prediction\",\n",
    "    description=\"Enter your information to predict the risk of diabetes.\",\n",
    ")\n",
    "\n",
    "# Launch the Gradio interface\n",
    "interface.launch()\n"
   ]
  }
 ],
 "metadata": {
  "kernelspec": {
   "display_name": "dev",
   "language": "python",
   "name": "python3"
  },
  "language_info": {
   "codemirror_mode": {
    "name": "ipython",
    "version": 3
   },
   "file_extension": ".py",
   "mimetype": "text/x-python",
   "name": "python",
   "nbconvert_exporter": "python",
   "pygments_lexer": "ipython3",
   "version": "3.10.14"
  }
 },
 "nbformat": 4,
 "nbformat_minor": 2
}
